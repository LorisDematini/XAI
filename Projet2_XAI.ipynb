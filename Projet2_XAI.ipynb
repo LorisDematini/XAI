{
 "nbformat": 4,
 "nbformat_minor": 0,
 "metadata": {
  "colab": {
   "provenance": []
  },
  "kernelspec": {
   "name": "python3",
   "display_name": "Python 3 (ipykernel)",
   "language": "python"
  },
  "language_info": {
   "name": "python"
  }
 },
 "cells": [
  {
   "cell_type": "code",
   "source": [
    "import warnings\n",
    "warnings.filterwarnings(\"ignore\")\n",
    "\n",
    "import pandas as pd\n",
    "import numpy as np\n",
    "import matplotlib.pyplot as plt\n",
    "import seaborn as sns\n",
    "from sklearn.model_selection import train_test_split\n",
    "from sklearn.compose import ColumnTransformer\n",
    "from sklearn.pipeline import Pipeline\n",
    "from sklearn.preprocessing import OneHotEncoder, StandardScaler\n",
    "from sklearn.ensemble import RandomForestClassifier\n",
    "from sklearn import metrics\n",
    "import dice_ml\n"
   ],
   "metadata": {
    "colab": {
     "base_uri": "https://localhost:8080/"
    },
    "id": "EJ-LjefTWEvY",
    "outputId": "e493c735-9040-4d8e-91a3-2430ab4159ee",
    "ExecuteTime": {
     "end_time": "2025-02-06T08:33:30.674089Z",
     "start_time": "2025-02-06T08:33:30.671323Z"
    }
   },
   "outputs": [],
   "execution_count": 11
  },
  {
   "metadata": {
    "ExecuteTime": {
     "end_time": "2025-02-06T08:37:10.103580Z",
     "start_time": "2025-02-06T08:37:10.098174Z"
    }
   },
   "cell_type": "code",
   "source": [
    "def load_and_clean_data():\n",
    "    \"\"\"Charge et nettoie les données de maladies cardiaques.\"\"\"\n",
    "    url = 'https://archive.ics.uci.edu/ml/machine-learning-databases/heart-disease/processed.cleveland.data'\n",
    "    columns = ['age', 'sex', 'cp', 'trestbps', 'chol', 'fbs', 'restecg',\n",
    "               'thalach', 'exang', 'oldpeak', 'slope', 'ca', 'thal', 'target']\n",
    "    df = pd.read_csv(url, header=None, names=columns)\n",
    "    df.replace('?', np.nan, inplace=True)\n",
    "    df = df.apply(pd.to_numeric, errors='coerce')\n",
    "    df.dropna(inplace=True)\n",
    "\n",
    "    categorical_mapping = {\n",
    "        'sex': {0: 'femme', 1: 'homme'},\n",
    "        'cp': {1: 'angine typique', 2: 'angine atypique',\n",
    "               3: 'douleur non-angineuse', 4: 'asymptomatique'},\n",
    "        'fbs': {0: 'normal', 1: 'élevé'},\n",
    "        'restecg': {0: 'normal', 1: 'anomalie ST-T', 2: 'hypertrophie VG'},\n",
    "        'exang': {0: 'non', 1: 'oui'},\n",
    "        'slope': {1: 'ascendant', 2: 'plat', 3: 'descendant'},\n",
    "        'thal': {3: 'normal', 6: 'défaut fixe', 7: 'défaut réversible'}\n",
    "    }\n",
    "\n",
    "    for col, mapping in categorical_mapping.items():\n",
    "        df[col] = df[col].map(mapping)\n",
    "    df['target'] = df['target'].apply(lambda x: 'Maladie' if x > 0 else 'Pas de Maladie')\n",
    "\n",
    "    return df"
   ],
   "outputs": [],
   "execution_count": 19
  },
  {
   "metadata": {
    "ExecuteTime": {
     "end_time": "2025-02-06T08:37:16.029509Z",
     "start_time": "2025-02-06T08:37:16.024892Z"
    }
   },
   "cell_type": "code",
   "source": [
    "def build_model(X_train, y_train):\n",
    "    \"\"\"Construit et entraîne un modèle 'Random Forest'\"\"\"\n",
    "    categorical_features = ['sex', 'cp', 'fbs', 'restecg', 'exang', 'slope', 'thal']\n",
    "    numerical_features = ['age', 'trestbps', 'chol', 'thalach', 'oldpeak', 'ca']\n",
    "\n",
    "    preprocessor = ColumnTransformer([\n",
    "        ('num', StandardScaler(), numerical_features),\n",
    "        ('cat', OneHotEncoder(handle_unknown='ignore'), categorical_features)\n",
    "    ])\n",
    "\n",
    "    rf_model = RandomForestClassifier(n_estimators=100, max_depth=8, random_state=42)\n",
    "    pipeline_rf = Pipeline([\n",
    "        ('preprocessor', preprocessor),\n",
    "        ('classifier', rf_model)\n",
    "    ])\n",
    "\n",
    "    return pipeline_rf.fit(X_train, y_train)"
   ],
   "outputs": [],
   "execution_count": 20
  },
  {
   "metadata": {
    "ExecuteTime": {
     "end_time": "2025-02-06T08:37:21.517217Z",
     "start_time": "2025-02-06T08:37:21.512246Z"
    }
   },
   "cell_type": "code",
   "source": [
    "def evaluate_model(model, X_test, y_test):\n",
    "    \"\"\"Évalue le modèle et affiche les métriques de classification.\"\"\"\n",
    "    y_pred = model.predict(X_test)\n",
    "\n",
    "    print(f\"Accuracy: {metrics.accuracy_score(y_test, y_pred):.3f}\")\n",
    "    print(f\"Precision: {metrics.precision_score(y_test, y_pred, pos_label='Maladie'):.3f}\")\n",
    "    print(f\"Recall: {metrics.recall_score(y_test, y_pred, pos_label='Maladie'):.3f}\")\n",
    "    print(f\"F1-score: {metrics.f1_score(y_test, y_pred, pos_label='Maladie'):.3f}\")\n",
    "\n",
    "    plt.figure(figsize=(6, 5))\n",
    "    conf_matrix = metrics.confusion_matrix(y_test, y_pred)\n",
    "    sns.heatmap(conf_matrix, annot=True, fmt='d', cmap='Blues',\n",
    "                xticklabels=['Pas de Maladie', 'Maladie'],\n",
    "                yticklabels=['Pas de Maladie', 'Maladie'])\n",
    "    plt.title('Matrice de Confusion')\n",
    "    plt.xlabel('Prédiction')\n",
    "    plt.ylabel('Réelle')\n",
    "    plt.show()\n"
   ],
   "outputs": [],
   "execution_count": 21
  },
  {
   "metadata": {
    "ExecuteTime": {
     "end_time": "2025-02-06T08:37:27.086986Z",
     "start_time": "2025-02-06T08:37:27.083818Z"
    }
   },
   "cell_type": "code",
   "source": [
    "def generate_counterfactuals(model, X, y):\n",
    "    \"\"\"Génère des explications contrefactuelles avec DiCE.\"\"\"\n",
    "    numerical_features = ['age', 'trestbps', 'chol', 'thalach', 'oldpeak', 'ca']\n",
    "\n",
    "    data_for_dice = pd.concat([X, pd.Series(y, name='target')], axis=1)\n",
    "    d = dice_ml.Data(dataframe=data_for_dice,\n",
    "                     continuous_features=numerical_features,\n",
    "                     outcome_name='target')\n",
    "\n",
    "    m = dice_ml.Model(model=model, backend='sklearn')\n",
    "    exp = dice_ml.Dice(d, m, method='random')\n",
    "\n",
    "    features_to_vary = ['age', 'trestbps', 'chol', 'thalach', 'cp', 'exang', 'oldpeak', 'slope']\n",
    "    patient_index = 0\n",
    "    dice_exp = exp.generate_counterfactuals(\n",
    "        X.iloc[patient_index:patient_index+1],\n",
    "        total_CFs=2,\n",
    "        desired_class='opposite',\n",
    "        features_to_vary=features_to_vary\n",
    "    )\n",
    "\n",
    "    print(dice_exp.visualize_as_dataframe(show_only_changes=True))\n"
   ],
   "outputs": [],
   "execution_count": 22
  },
  {
   "metadata": {
    "ExecuteTime": {
     "end_time": "2025-02-06T08:37:34.444083Z",
     "start_time": "2025-02-06T08:37:33.536425Z"
    }
   },
   "cell_type": "code",
   "source": [
    "# Exécution du script principal\n",
    "df_heart = load_and_clean_data()\n",
    "X = df_heart.drop('target', axis=1)\n",
    "y = df_heart['target']\n",
    "X_train, X_test, y_train, y_test = train_test_split(X, y, test_size=0.3, random_state=42, stratify=y)\n",
    "\n",
    "model = build_model(X_train, y_train)\n",
    "evaluate_model(model, X_test, y_test)\n",
    "generate_counterfactuals(model, X, y)\n"
   ],
   "outputs": [
    {
     "name": "stdout",
     "output_type": "stream",
     "text": [
      "Accuracy: 0.811\n",
      "Precision: 0.821\n",
      "Recall: 0.762\n",
      "F1-score: 0.790\n"
     ]
    },
    {
     "data": {
      "text/plain": [
       "<Figure size 600x500 with 2 Axes>"
      ],
      "image/png": "[encoded data removed]"
     },
     "metadata": {},
     "output_type": "display_data"
    },
    {
     "name": "stderr",
     "output_type": "stream",
     "text": [
      "100%|██████████| 1/1 [00:00<00:00, 11.39it/s]"
     ]
    },
    {
     "name": "stdout",
     "output_type": "stream",
     "text": [
      "Query instance (original outcome : Pas de Maladie)\n"
     ]
    },
    {
     "name": "stderr",
     "output_type": "stream",
     "text": [
      "\n"
     ]
    },
    {
     "data": {
      "text/plain": [
       "    age    sex              cp  trestbps   chol    fbs          restecg  \\\n",
       "0  63.0  homme  angine typique     145.0  233.0  élevé  hypertrophie VG   \n",
       "\n",
       "   thalach exang  oldpeak       slope   ca         thal          target  \n",
       "0    150.0   non      2.3  descendant  0.0  défaut fixe  Pas de Maladie  "
      ],
      "text/html": [
       "<div>\n",
       "<style scoped>\n",
       "    .dataframe tbody tr th:only-of-type {\n",
       "        vertical-align: middle;\n",
       "    }\n",
       "\n",
       "    .dataframe tbody tr th {\n",
       "        vertical-align: top;\n",
       "    }\n",
       "\n",
       "    .dataframe thead th {\n",
       "        text-align: right;\n",
       "    }\n",
       "</style>\n",
       "<table border=\"1\" class=\"dataframe\">\n",
       "  <thead>\n",
       "    <tr style=\"text-align: right;\">\n",
       "      <th></th>\n",
       "      <th>age</th>\n",
       "      <th>sex</th>\n",
       "      <th>cp</th>\n",
       "      <th>trestbps</th>\n",
       "      <th>chol</th>\n",
       "      <th>fbs</th>\n",
       "      <th>restecg</th>\n",
       "      <th>thalach</th>\n",
       "      <th>exang</th>\n",
       "      <th>oldpeak</th>\n",
       "      <th>slope</th>\n",
       "      <th>ca</th>\n",
       "      <th>thal</th>\n",
       "      <th>target</th>\n",
       "    </tr>\n",
       "  </thead>\n",
       "  <tbody>\n",
       "    <tr>\n",
       "      <th>0</th>\n",
       "      <td>63.0</td>\n",
       "      <td>homme</td>\n",
       "      <td>angine typique</td>\n",
       "      <td>145.0</td>\n",
       "      <td>233.0</td>\n",
       "      <td>élevé</td>\n",
       "      <td>hypertrophie VG</td>\n",
       "      <td>150.0</td>\n",
       "      <td>non</td>\n",
       "      <td>2.3</td>\n",
       "      <td>descendant</td>\n",
       "      <td>0.0</td>\n",
       "      <td>défaut fixe</td>\n",
       "      <td>Pas de Maladie</td>\n",
       "    </tr>\n",
       "  </tbody>\n",
       "</table>\n",
       "</div>"
      ]
     },
     "metadata": {},
     "output_type": "display_data"
    },
    {
     "name": "stdout",
     "output_type": "stream",
     "text": [
      "\n",
      "Diverse Counterfactual set (new outcome: Maladie)\n"
     ]
    },
    {
     "data": {
      "text/plain": [
       "  age sex cp trestbps   chol fbs restecg thalach exang oldpeak slope ca thal  \\\n",
       "0   -   -  -        -      -   -       -    82.9     -       -  plat  -    -   \n",
       "1   -   -  -        -  326.1   -       -       -     -       -  plat  -    -   \n",
       "\n",
       "    target  \n",
       "0  Maladie  \n",
       "1  Maladie  "
      ],
      "text/html": [
       "<div>\n",
       "<style scoped>\n",
       "    .dataframe tbody tr th:only-of-type {\n",
       "        vertical-align: middle;\n",
       "    }\n",
       "\n",
       "    .dataframe tbody tr th {\n",
       "        vertical-align: top;\n",
       "    }\n",
       "\n",
       "    .dataframe thead th {\n",
       "        text-align: right;\n",
       "    }\n",
       "</style>\n",
       "<table border=\"1\" class=\"dataframe\">\n",
       "  <thead>\n",
       "    <tr style=\"text-align: right;\">\n",
       "      <th></th>\n",
       "      <th>age</th>\n",
       "      <th>sex</th>\n",
       "      <th>cp</th>\n",
       "      <th>trestbps</th>\n",
       "      <th>chol</th>\n",
       "      <th>fbs</th>\n",
       "      <th>restecg</th>\n",
       "      <th>thalach</th>\n",
       "      <th>exang</th>\n",
       "      <th>oldpeak</th>\n",
       "      <th>slope</th>\n",
       "      <th>ca</th>\n",
       "      <th>thal</th>\n",
       "      <th>target</th>\n",
       "    </tr>\n",
       "  </thead>\n",
       "  <tbody>\n",
       "    <tr>\n",
       "      <th>0</th>\n",
       "      <td>-</td>\n",
       "      <td>-</td>\n",
       "      <td>-</td>\n",
       "      <td>-</td>\n",
       "      <td>-</td>\n",
       "      <td>-</td>\n",
       "      <td>-</td>\n",
       "      <td>82.9</td>\n",
       "      <td>-</td>\n",
       "      <td>-</td>\n",
       "      <td>plat</td>\n",
       "      <td>-</td>\n",
       "      <td>-</td>\n",
       "      <td>Maladie</td>\n",
       "    </tr>\n",
       "    <tr>\n",
       "      <th>1</th>\n",
       "      <td>-</td>\n",
       "      <td>-</td>\n",
       "      <td>-</td>\n",
       "      <td>-</td>\n",
       "      <td>326.1</td>\n",
       "      <td>-</td>\n",
       "      <td>-</td>\n",
       "      <td>-</td>\n",
       "      <td>-</td>\n",
       "      <td>-</td>\n",
       "      <td>plat</td>\n",
       "      <td>-</td>\n",
       "      <td>-</td>\n",
       "      <td>Maladie</td>\n",
       "    </tr>\n",
       "  </tbody>\n",
       "</table>\n",
       "</div>"
      ]
     },
     "metadata": {},
     "output_type": "display_data"
    },
    {
     "name": "stdout",
     "output_type": "stream",
     "text": [
      "None\n"
     ]
    }
   ],
   "execution_count": 23
  },
  {
   "metadata": {},
   "cell_type": "markdown",
   "source": [
    "e# **Analyse des Résultats**\n",
    "\n",
    "## **1. Évaluation du Modèle**\n",
    "### **Matrice de Confusion**\n",
    "- Le modèle a correctement prédit :\n",
    "  - 32 cas de \"Pas de Maladie\".\n",
    "  - 41 cas de \"Maladie\".\n",
    "- Les erreurs incluent :\n",
    "  - 10 faux positifs (prédit comme \"Maladie\" mais réellement \"Pas de Maladie\").\n",
    "  - 7 faux négatifs (prédit comme \"Pas de Maladie\" mais réellement \"Maladie\").\n",
    "- Ces résultats montrent un bon équilibre entre la sensibilité (rappel) et la précision.\n",
    "\n",
    "### **Métriques de Performance**\n",
    "- **Précision (Precision)** : 82.1 %, indiquant que parmi les prédictions positives, 82.1 % étaient correctes.\n",
    "- **Rappel (Recall)** : 76.2 %, montrant que le modèle a capturé 76.2 % des cas réels de \"Maladie\".\n",
    "- **F1-Score** : 79.0 %, une mesure harmonique qui équilibre la précision et le rappel, confirmant la performance globale solide.\n",
    "- **Exactitude (Accuracy)** : 81.1 %, une mesure générale de la performance du modèle.\n",
    "\n",
    "---\n",
    "\n",
    "## **2. Instance Query et Explications Contrefactuelles**\n",
    "### **Instance Query**\n",
    "- L'instance analysée initialement correspond à un patient de 63 ans, identifié comme \"Pas de Maladie\" par le modèle, avec les caractéristiques suivantes :\n",
    "  - **Cholestérol total** : 233 mg/dL (niveau élevé).\n",
    "  - **Fréquence cardiaque maximale (thalach)** : 150 bpm (normale).\n",
    "  - **Dépression du segment ST (Oldpeak)** : 2.3 (indicateur de stress cardiaque).\n",
    "  - **Sexe** : Homme.\n",
    "\n",
    "### **Explications Contrefactuelles**\n",
    "- Deux scénarios alternatifs ont été générés pour que ce patient soit classifié comme \"Maladie\" :\n",
    "  - **Scénario 1** :\n",
    "    - Une modification similaire de la slope (plat) combinée à une augmentation de la variable 'thalach' (max heart rate) a également conduit à un diagnostic de \"Maladie\".\n",
    "  - **Scénario 2** :\n",
    "    - Le cholestérol devait augmenter à **326.1**.\n",
    "    - La pente du segment ST devait passer à **plat**, indiquant une anomalie dans l'électrocardiogramme.\n",
    "\n",
    "---\n",
    "\n",
    "## **3. Interprétation Médicale**\n",
    "### **Facteurs Déterminants**\n",
    "- Une augmentation significative du **cholestérol** est un facteur clé dans la classification en \"Maladie\", reflétant son importance comme facteur de risque.\n",
    "- La pente du segment ST (**plat**) joue également un rôle critique dans le diagnostic de la maladie.\n",
    "\n",
    "### **Prise de Décision Clinique**\n",
    "- Ces explications soulignent des variables **modifiables** (comme le cholestérol) pouvant être ciblées par des interventions médicales ou des changements de mode de vie.\n",
    "- Les résultats pourraient aider les cliniciens à identifier des patients à risque avant que des complications graves ne surviennent.\n",
    "\n",
    "---\n",
    "\n",
    "## **4. Limitations et Améliorations**\n",
    "### **Limites des Contrefactuels**\n",
    "- Les scénarios contrefactuels générés ne prennent pas toujours en compte les **contraintes biologiques ou médicales réalistes** (par exemple, des niveaux de cholestérol très élevés).\n",
    "- Ajouter des **contraintes sur les variables** permettrait de générer des explications médicalement plausibles.\n",
    "\n",
    "### **Améliorations du Modèle**\n",
    "- Intégrer des données supplémentaires (par exemple, marqueurs inflammatoires, antécédents familiaux) pourrait améliorer les prédictions.\n",
    "- Tester d'autres modèles comme les réseaux neuronaux ou des méthodes d'ensemble (par exemple, XGBoost) pour comparer les performances.\n",
    "\n",
    "---\n",
    "\n",
    "## **5. Conclusion**\n",
    "Le modèle Random Forest a bien performé avec une précision globale de **81.1 %** et une capacité à capturer les cas réels de maladies cardiaques avec un rappel de **76.2 %**.\n",
    "Les explications contrefactuelles générées à l'aide de DiCE offrent des perspectives intéressantes pour comprendre les facteurs de risque clés et guider les décisions médicales.\n",
    "Cependant, il est essentiel de s'assurer que ces scénarios restent **réalistes et exploitables** pour leur utilisation pratique.\n"
   ]
  },
  {
   "metadata": {},
   "cell_type": "code",
   "outputs": [],
   "execution_count": null,
   "source": ""
  }
 ]
}
